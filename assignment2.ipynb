{
 "cells": [
  {
   "cell_type": "markdown",
   "id": "b966e32b",
   "metadata": {},
   "source": [
    "Abdul Basit Fareed"
   ]
  },
  {
   "cell_type": "markdown",
   "id": "8e9c9653",
   "metadata": {},
   "source": [
    "Q.1 Write a program to determine if a triangle is equaliteral, isoscales or scalen based on user input sides"
   ]
  },
  {
   "cell_type": "code",
   "execution_count": 7,
   "id": "5eb29a36",
   "metadata": {},
   "outputs": [
    {
     "name": "stdout",
     "output_type": "stream",
     "text": [
      "This is an equilateral triangle\n"
     ]
    }
   ],
   "source": [
    "a=input(\"Enter first value: \")\n",
    "b=input(\"Enter second value: \")\n",
    "c=input(\"Enter third value: \")\n",
    "if a==b==c:\n",
    "    print(\"This is an equilateral triangle\")\n",
    "elif a==b or b==c or a==c:\n",
    "    print(\"This is an Isosceles triangle\")\n",
    "else:\n",
    "    print(\"This is a Scalene triangle\")"
   ]
  },
  {
   "cell_type": "markdown",
   "id": "d567f37c",
   "metadata": {},
   "source": [
    "Q.2 Input marks of 5 subjects and decide whether the student passed (must score >33 in all) and their average percentage."
   ]
  },
  {
   "cell_type": "code",
   "execution_count": 10,
   "id": "60117c9c",
   "metadata": {},
   "outputs": [
    {
     "name": "stdout",
     "output_type": "stream",
     "text": [
      "Enter marks for 5 subjects:\n",
      "\n",
      "Result: Passed\n",
      "Average Percentage: 73.00%\n"
     ]
    }
   ],
   "source": [
    "marks = []\n",
    "\n",
    "\n",
    "print(\"Enter marks for 5 subjects:\")\n",
    "for i in range(1, 6):\n",
    "    mark = float(input(f\"Subject {i}: \"))\n",
    "    marks.append(mark)\n",
    "\n",
    "\n",
    "passed = all(mark > 33 for mark in marks)\n",
    "\n",
    "\n",
    "average = sum(marks) / 5\n",
    "\n",
    "\n",
    "if passed:\n",
    "    print(\"\\nResult: Passed\")\n",
    "else:\n",
    "    print(\"\\nResult: Failed\")\n",
    "\n",
    "print(f\"Average Percentage: {average:.2f}%\")"
   ]
  },
  {
   "cell_type": "markdown",
   "id": "e5354bb8",
   "metadata": {},
   "source": [
    "Q.3 Count the frequency of characters in a string using a dictionary.\n"
   ]
  },
  {
   "cell_type": "code",
   "execution_count": 11,
   "id": "1619b152",
   "metadata": {},
   "outputs": [
    {
     "name": "stdout",
     "output_type": "stream",
     "text": [
      "\n",
      "Character Frequencies:\n",
      "'h': 1\n",
      "'e': 1\n",
      "'l': 3\n",
      "'o': 2\n",
      "' ': 1\n",
      "'w': 1\n",
      "'r': 1\n",
      "'d': 1\n"
     ]
    }
   ],
   "source": [
    "text = input(\"Enter a string: \")\n",
    "\n",
    "\n",
    "char_freq = {}\n",
    "\n",
    "\n",
    "for char in text:\n",
    "    if char in char_freq:\n",
    "        char_freq[char] += 1\n",
    "    else:\n",
    "        char_freq[char] = 1\n",
    "\n",
    "\n",
    "print(\"\\nCharacter Frequencies:\")\n",
    "for char, freq in char_freq.items():\n",
    "    print(f\"'{char}': {freq}\")"
   ]
  },
  {
   "cell_type": "markdown",
   "id": "72a2c8a5",
   "metadata": {},
   "source": [
    "Q.4 Convert two lists into a dictionary (one list of keys, one list of values).\n"
   ]
  },
  {
   "cell_type": "code",
   "execution_count": 12,
   "id": "18292c3d",
   "metadata": {},
   "outputs": [
    {
     "name": "stdout",
     "output_type": "stream",
     "text": [
      "Resulting Dictionary:\n",
      "{'name': 'Alice', 'age': 25, 'city': 'New York'}\n"
     ]
    }
   ],
   "source": [
    "keys = ['name', 'age', 'city']\n",
    "values = ['Alice', 25, 'New York']\n",
    "\n",
    "\n",
    "result_dict = dict(zip(keys, values))\n",
    "\n",
    "\n",
    "print(\"Resulting Dictionary:\")\n",
    "print(result_dict)"
   ]
  },
  {
   "cell_type": "markdown",
   "id": "0ffe5ad1",
   "metadata": {},
   "source": [
    "Q.5 Try converting a string to an integer and catch any value error if it fails."
   ]
  },
  {
   "cell_type": "code",
   "execution_count": 13,
   "id": "1c5d4da3",
   "metadata": {},
   "outputs": [
    {
     "name": "stdout",
     "output_type": "stream",
     "text": [
      "Conversion successful! The number is: 12345\n"
     ]
    }
   ],
   "source": [
    "\n",
    "user_input = input(\"Enter a number: \")\n",
    "\n",
    "try:\n",
    "    number = int(user_input)\n",
    "    print(f\"Conversion successful! The number is: {number}\")\n",
    "except ValueError:\n",
    "    print(\"Error: Invalid input. Please enter a valid integer.\")"
   ]
  },
  {
   "cell_type": "markdown",
   "id": "7ce84c59",
   "metadata": {},
   "source": [
    "Q.6 Handle a key error while accessing a non-existent key from a dictionary."
   ]
  },
  {
   "cell_type": "code",
   "execution_count": 14,
   "id": "43121b00",
   "metadata": {},
   "outputs": [
    {
     "name": "stdout",
     "output_type": "stream",
     "text": [
      "Error: Key 'city' does not exist in the dictionary.\n"
     ]
    }
   ],
   "source": [
    "my_dict = {'name': 'Alice', 'age': 25}\n",
    "\n",
    "\n",
    "key_to_access = 'city'\n",
    "\n",
    "try:\n",
    "    value = my_dict[key_to_access]\n",
    "    print(f\"The value for '{key_to_access}' is {value}.\")\n",
    "except KeyError:\n",
    "    print(f\"Error: Key '{key_to_access}' does not exist in the dictionary.\")"
   ]
  },
  {
   "cell_type": "markdown",
   "id": "2fcdd18c",
   "metadata": {},
   "source": [
    "Q.7 Use a try-except-finally block to open a file, read its contents, and close the file (even if an error occurs)."
   ]
  },
  {
   "cell_type": "code",
   "execution_count": 15,
   "id": "8323c462",
   "metadata": {},
   "outputs": [
    {
     "name": "stdout",
     "output_type": "stream",
     "text": [
      "Error: The file 'example.txt' was not found.\n"
     ]
    }
   ],
   "source": [
    "filename = \"example.txt\"\n",
    "\n",
    "try:\n",
    "    file = open(filename, \"r\")\n",
    "    content = file.read()\n",
    "    print(\"File contents:\\n\", content)\n",
    "except FileNotFoundError:\n",
    "    print(f\"Error: The file '{filename}' was not found.\")\n",
    "except Exception as e:\n",
    "    print(\"An error occurred:\", e)\n",
    "finally:\n",
    "    try:\n",
    "        file.close()\n",
    "        print(\"File closed successfully.\")\n",
    "    except NameError:\n",
    "      \n",
    "        pass"
   ]
  },
  {
   "cell_type": "markdown",
   "id": "ab959b31",
   "metadata": {},
   "source": [
    "Q.8 Nest multiple try-except blocks to handle file read and data conversion."
   ]
  },
  {
   "cell_type": "code",
   "execution_count": 16,
   "id": "31f05346",
   "metadata": {},
   "outputs": [
    {
     "name": "stdout",
     "output_type": "stream",
     "text": [
      "Error: File 'data.txt' not found.\n"
     ]
    }
   ],
   "source": [
    "filename = \"data.txt\"\n",
    "\n",
    "try:\n",
    "    # Outer try: open and read the file\n",
    "    with open(filename, 'r') as file:\n",
    "        data = file.read().strip()\n",
    "        print(f\"Raw data from file: '{data}'\")\n",
    "\n",
    "    try:\n",
    "        # Inner try: convert data to integer\n",
    "        number = int(data)\n",
    "        print(f\"Converted number: {number}\")\n",
    "    except ValueError:\n",
    "        print(\"Error: Data in the file is not a valid integer.\")\n",
    "\n",
    "except FileNotFoundError:\n",
    "    print(f\"Error: File '{filename}' not found.\")\n",
    "except Exception as e:\n",
    "    print(\"An unexpected error occurred:\", e)"
   ]
  }
 ],
 "metadata": {
  "kernelspec": {
   "display_name": "Python 3",
   "language": "python",
   "name": "python3"
  },
  "language_info": {
   "codemirror_mode": {
    "name": "ipython",
    "version": 3
   },
   "file_extension": ".py",
   "mimetype": "text/x-python",
   "name": "python",
   "nbconvert_exporter": "python",
   "pygments_lexer": "ipython3",
   "version": "3.13.5"
  }
 },
 "nbformat": 4,
 "nbformat_minor": 5
}
