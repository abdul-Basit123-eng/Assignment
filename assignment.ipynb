{
 "cells": [
  {
   "cell_type": "markdown",
   "id": "1cc9b6f5",
   "metadata": {},
   "source": [
    "Abdul Basit Fareed"
   ]
  },
  {
   "cell_type": "markdown",
   "id": "dc86534f",
   "metadata": {},
   "source": [
    "For Loop:"
   ]
  },
  {
   "cell_type": "markdown",
   "id": "67fbea5f",
   "metadata": {},
   "source": [
    "\n",
    "Q.1:Create a list of all numbers between 1 and 100 that are divisible by both 3 and 5."
   ]
  },
  {
   "cell_type": "code",
   "execution_count": null,
   "id": "b69e36e0",
   "metadata": {},
   "outputs": [
    {
     "name": "stdout",
     "output_type": "stream",
     "text": [
      "[15, 30, 45, 60, 75, 90]\n"
     ]
    },
    {
     "name": "stdout",
     "output_type": "stream",
     "text": [
      "[15, 30, 45, 60, 75, 90]\n"
     ]
    }
   ],
   "source": [
    "divisible_by_3_and_5 = [i for i in range(1, 101) if i % 15 == 0]\n",
    "print(divisible_by_3_and_5)"
   ]
  },
  {
   "cell_type": "markdown",
   "id": "27354b0e",
   "metadata": {},
   "source": [
    "Q.2:Write a loop that replaces all spaces in a string with underscores."
   ]
  },
  {
   "cell_type": "code",
   "execution_count": null,
   "id": "a4ef833f",
   "metadata": {},
   "outputs": [
    {
     "name": "stdout",
     "output_type": "stream",
     "text": [
      "Hello_world,_how_are_you?\n"
     ]
    }
   ],
   "source": [
    "text = \"Hello world, how are you?\"\n",
    "result = \"\"\n",
    "\n",
    "for char in text:\n",
    "    if char == \" \":\n",
    "        result += \"_\"\n",
    "    else:\n",
    "        result += char\n",
    "\n",
    "print(result)"
   ]
  },
  {
   "cell_type": "markdown",
   "id": "da6c8264",
   "metadata": {},
   "source": [
    "Q.3:Check which elements are common in two lists."
   ]
  },
  {
   "cell_type": "code",
   "execution_count": null,
   "id": "4f0467ad",
   "metadata": {},
   "outputs": [
    {
     "name": "stdout",
     "output_type": "stream",
     "text": [
      "[4, 5]\n"
     ]
    }
   ],
   "source": [
    "list1 = [1, 2, 3, 4, 5]\n",
    "list2 = [4, 5, 6, 7, 8]\n",
    "\n",
    "common_elements = []\n",
    "\n",
    "for item in list1:\n",
    "    if item in list2:\n",
    "        common_elements.append(item)\n",
    "\n",
    "print(common_elements)"
   ]
  },
  {
   "cell_type": "markdown",
   "id": "4130e133",
   "metadata": {},
   "source": [
    "While Loop:"
   ]
  },
  {
   "cell_type": "markdown",
   "id": "19761a2f",
   "metadata": {},
   "source": [
    "Q.1:Keep removing elements from a list one by one and print the list each time, until it becomes empty"
   ]
  },
  {
   "cell_type": "code",
   "execution_count": null,
   "id": "85340050",
   "metadata": {},
   "outputs": [
    {
     "name": "stdout",
     "output_type": "stream",
     "text": [
      "[20, 30, 40, 50]\n",
      "[30, 40, 50]\n",
      "[40, 50]\n",
      "[50]\n",
      "[]\n"
     ]
    }
   ],
   "source": [
    "my_list = [10, 20, 30, 40, 50]\n",
    "\n",
    "while my_list:\n",
    "    my_list.pop(0)  \n",
    "    print(my_list)"
   ]
  },
  {
   "cell_type": "markdown",
   "id": "246c24bb",
   "metadata": {},
   "source": [
    "Q.2:Start from a number and keep dividing it by 2 until it becomes less than 1. Print each value."
   ]
  },
  {
   "cell_type": "code",
   "execution_count": null,
   "id": "3df3ca48",
   "metadata": {},
   "outputs": [
    {
     "name": "stdout",
     "output_type": "stream",
     "text": [
      "100\n",
      "50.0\n",
      "25.0\n",
      "12.5\n",
      "6.25\n",
      "3.125\n",
      "1.5625\n"
     ]
    }
   ],
   "source": [
    "number = 100\n",
    "\n",
    "while number >= 1:\n",
    "    print(number)\n",
    "    number /= 2"
   ]
  },
  {
   "cell_type": "markdown",
   "id": "255984d5",
   "metadata": {},
   "source": [
    "Q.3: Ask the user to enter numbers until the total sum crosses 100."
   ]
  },
  {
   "cell_type": "code",
   "execution_count": 5,
   "id": "22ee2e6a",
   "metadata": {},
   "outputs": [
    {
     "name": "stdout",
     "output_type": "stream",
     "text": [
      "Current total: 14.0\n",
      "Current total: 29.0\n",
      "Current total: 44.0\n",
      "Current total: 60.0\n",
      "Current total: 146.0\n",
      "Total has crossed 100!\n"
     ]
    }
   ],
   "source": [
    "total = 0\n",
    "\n",
    "while total <= 100:\n",
    "    num = float(input(\"Enter a number: \"))\n",
    "    total += num\n",
    "    print(f\"Current total: {total}\")\n",
    "\n",
    "print(\"Total has crossed 100!\")"
   ]
  }
 ],
 "metadata": {
  "kernelspec": {
   "display_name": "Python 3",
   "language": "python",
   "name": "python3"
  },
  "language_info": {
   "codemirror_mode": {
    "name": "ipython",
    "version": 3
   },
   "file_extension": ".py",
   "mimetype": "text/x-python",
   "name": "python",
   "nbconvert_exporter": "python",
   "pygments_lexer": "ipython3",
   "version": "3.13.5"
  }
 },
 "nbformat": 4,
 "nbformat_minor": 5
}
