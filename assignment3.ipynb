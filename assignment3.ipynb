{
 "cells": [
  {
   "cell_type": "markdown",
   "id": "6cc57dc8",
   "metadata": {},
   "source": [
    "1. Encapsulation:\n",
    "\n",
    "    Create a class OnlineOrder with the following:\n",
    "\n",
    "    Private attributes: __order_id, __items (list), __status (pending, shipped, delivered)\n",
    "\n",
    "    Public methods:\n",
    "\n",
    "    add_item(item_name)\n",
    "\n",
    "    remove_item(item_name)\n",
    "\n",
    "    update_status(new_status) — only allow valid statuses\n",
    "\n",
    "    get_order_summary() — return order ID, items, and status"
   ]
  },
  {
   "cell_type": "code",
   "execution_count": 7,
   "id": "d9c92a6f",
   "metadata": {},
   "outputs": [
    {
     "name": "stdout",
     "output_type": "stream",
     "text": [
      "Item 'Keyboard' not found in the order.\n",
      "Invalid status: 'cancelled'. Valid statuses are: delivered, shipped, pending.\n",
      "{'order_id': 'ORD123', 'items': ['Laptop', 'Mouse'], 'status': 'shipped'}\n"
     ]
    }
   ],
   "source": [
    "class OnlineOrder:\n",
    "    \n",
    "    __valid_statuses = {\"pending\", \"shipped\", \"delivered\"}\n",
    "\n",
    "    def __init__(self, order_id):\n",
    "        self.__order_id = order_id\n",
    "        self.__items = []\n",
    "        self.__status = \"pending\"  \n",
    "\n",
    "    def add_item(self, item_name):\n",
    "        self.__items.append(item_name)\n",
    "\n",
    "    def remove_item(self, item_name):\n",
    "        if item_name in self.__items:\n",
    "            self.__items.remove(item_name)\n",
    "        else:\n",
    "            print(f\"Item '{item_name}' not found in the order.\")\n",
    "\n",
    "    def update_status(self, new_status):\n",
    "        if new_status in self.__valid_statuses:\n",
    "            self.__status = new_status\n",
    "        else:\n",
    "            print(f\"Invalid status: '{new_status}'. Valid statuses are: {', '.join(self.__valid_statuses)}.\")\n",
    "\n",
    "    def get_order_summary(self):\n",
    "        return {\n",
    "            \"order_id\": self.__order_id,\n",
    "            \"items\": list(self.__items),  \n",
    "            \"status\": self.__status\n",
    "        }\n",
    "order = OnlineOrder(\"ORD123\")\n",
    "order.add_item(\"Laptop\")\n",
    "order.add_item(\"Mouse\")\n",
    "order.remove_item(\"Keyboard\")  \n",
    "order.update_status(\"shipped\")\n",
    "order.update_status(\"cancelled\")  \n",
    "\n",
    "summary = order.get_order_summary()\n",
    "print(summary)    "
   ]
  },
  {
   "cell_type": "markdown",
   "id": "b7b322e9",
   "metadata": {},
   "source": [
    "2. Inheritance:\n",
    "\n",
    "    Create a base class Employee with attributes like name, id, and a method get_details().\n",
    "\n",
    "    Inherit it in:\n",
    "\n",
    "    Manager class: add team_size\n",
    "\n",
    "    Developer class: add programming_language\n",
    "\n",
    "    Override get_details() in both subclasses to include their specific details."
   ]
  },
  {
   "cell_type": "code",
   "execution_count": 9,
   "id": "a989e9c2",
   "metadata": {},
   "outputs": [
    {
     "name": "stdout",
     "output_type": "stream",
     "text": [
      "Name: Alice Johnson, ID: 101, Team Size: 10\n",
      "Name: Bob Smith, ID: 202, Programming Language: Python\n"
     ]
    }
   ],
   "source": [
    "class Employee:\n",
    "    def __init__(self, name, emp_id):\n",
    "        self.name = name\n",
    "        self.emp_id = emp_id\n",
    "\n",
    "    def get_details(self):\n",
    "        return f\"Name: {self.name}, ID: {self.emp_id}\"\n",
    "\n",
    "\n",
    "class Manager(Employee):\n",
    "    def __init__(self, name, emp_id, team_size):\n",
    "        super().__init__(name, emp_id)\n",
    "        self.team_size = team_size\n",
    "\n",
    "    def get_details(self):\n",
    "        return f\"{super().get_details()}, Team Size: {self.team_size}\"\n",
    "\n",
    "\n",
    "class Developer(Employee):\n",
    "    def __init__(self, name, emp_id, programming_language):\n",
    "        super().__init__(name, emp_id)\n",
    "        self.programming_language = programming_language\n",
    "\n",
    "    def get_details(self):\n",
    "        return f\"{super().get_details()}, Programming Language: {self.programming_language}\"\n",
    "\n",
    "\n",
    "if __name__ == \"__main__\":\n",
    "    manager = Manager(\"Alice Johnson\", 101, 10)\n",
    "    developer = Developer(\"Bob Smith\", 202, \"Python\")\n",
    "\n",
    "    print(manager.get_details())    \n",
    "    print(developer.get_details())"
   ]
  },
  {
   "cell_type": "markdown",
   "id": "8b5a7e7e",
   "metadata": {},
   "source": [
    "3. Polymorphism:\n",
    "\n",
    "    Create a MessageSender class with a method send(). Inherit it in EmailSender and SMSSender and override send(). Use a loop to call send() on different objects.\n"
   ]
  },
  {
   "cell_type": "code",
   "execution_count": 10,
   "id": "13bf1260",
   "metadata": {},
   "outputs": [
    {
     "name": "stdout",
     "output_type": "stream",
     "text": [
      "Sending Email...\n",
      "Sending SMS...\n",
      "Sending Email...\n"
     ]
    }
   ],
   "source": [
    "class MessageSender:\n",
    "    def send(self):\n",
    "        raise NotImplementedError(\"Subclasses must override this method.\")\n",
    "\n",
    "\n",
    "class EmailSender(MessageSender):\n",
    "    def send(self):\n",
    "        return \"Sending Email...\"\n",
    "\n",
    "\n",
    "class SMSSender(MessageSender):\n",
    "    def send(self):\n",
    "        return \"Sending SMS...\"\n",
    "\n",
    "\n",
    "if __name__ == \"__main__\":\n",
    "    senders = [EmailSender(), SMSSender(), EmailSender()]\n",
    "\n",
    "    for sender in senders:\n",
    "        print(sender.send())"
   ]
  },
  {
   "cell_type": "markdown",
   "id": "8254990d",
   "metadata": {},
   "source": [
    "4. Abstraction:\n",
    "\n",
    "    Create an abstract class Appliance with:\n",
    "\n",
    "    Abstract method: turn_on()\n",
    "\n",
    "    Abstract method: turn_off()\n",
    "\n",
    "    Then create two classes:\n",
    "\n",
    "    WashingMachine\n",
    "\n",
    "    Microwave\n",
    "\n",
    "    Each class should implement the turn_on() and turn_off() methods differently (e.g., display specific messages like \"Washing clothes...\" or \"Heating food...\")."
   ]
  },
  {
   "cell_type": "code",
   "execution_count": 11,
   "id": "23fef61b",
   "metadata": {},
   "outputs": [
    {
     "name": "stdout",
     "output_type": "stream",
     "text": [
      "Washing Machine: Washing clothes...\n",
      "Washing Machine: Stopping wash cycle.\n",
      "Microwave: Heating food...\n",
      "Microwave: Turning off and cooling down.\n"
     ]
    }
   ],
   "source": [
    "from abc import ABC, abstractmethod\n",
    "\n",
    "\n",
    "class Appliance(ABC):\n",
    "    \n",
    "    @abstractmethod\n",
    "    def turn_on(self):\n",
    "        pass\n",
    "\n",
    "    @abstractmethod\n",
    "    def turn_off(self):\n",
    "        pass\n",
    "\n",
    "\n",
    "class WashingMachine(Appliance):\n",
    "    def turn_on(self):\n",
    "        print(\"Washing Machine: Washing clothes...\")\n",
    "\n",
    "    def turn_off(self):\n",
    "        print(\"Washing Machine: Stopping wash cycle.\")\n",
    "\n",
    "\n",
    "class Microwave(Appliance):\n",
    "    def turn_on(self):\n",
    "        print(\"Microwave: Heating food...\")\n",
    "\n",
    "    def turn_off(self):\n",
    "        print(\"Microwave: Turning off and cooling down.\")\n",
    "\n",
    "\n",
    "if __name__ == \"__main__\":\n",
    "    appliances = [WashingMachine(), Microwave()]\n",
    "\n",
    "    for appliance in appliances:\n",
    "        appliance.turn_on()\n",
    "        appliance.turn_off()"
   ]
  },
  {
   "cell_type": "markdown",
   "id": "655b0f93",
   "metadata": {},
   "source": [
    "5. All Pillars Combined:\n",
    "    Design classes for an online learning platform with:\n",
    "\n",
    "    Encapsulation in User class\n",
    "\n",
    "    Inheritance with Student and Instructor\n",
    "\n",
    "    Polymorphism using access_portal()\n",
    "\n",
    "    Abstraction with CourseMaterial class"
   ]
  },
  {
   "cell_type": "code",
   "execution_count": 12,
   "id": "dc9efa00",
   "metadata": {},
   "outputs": [
    {
     "name": "stdout",
     "output_type": "stream",
     "text": [
      "alice accessing Student Portal\n",
      "bob accessing Instructor Portal\n",
      "Playing video lesson...\n",
      "Opening PDF material...\n"
     ]
    }
   ],
   "source": [
    "from abc import ABC, abstractmethod\n",
    "\n",
    "\n",
    "class User:\n",
    "    def __init__(self, username, email):\n",
    "        self.__username = username\n",
    "        self.__email = email\n",
    "\n",
    "    def get_username(self):\n",
    "        return self.__username\n",
    "\n",
    "    def get_email(self):\n",
    "        return self.__email\n",
    "\n",
    "    def access_portal(self):\n",
    "        pass\n",
    "\n",
    "\n",
    "class Student(User):\n",
    "    def access_portal(self):\n",
    "        return f\"{self.get_username()} accessing Student Portal\"\n",
    "\n",
    "class Instructor(User):\n",
    "    def access_portal(self):\n",
    "        return f\"{self.get_username()} accessing Instructor Portal\"\n",
    "\n",
    "\n",
    "class CourseMaterial(ABC):\n",
    "    @abstractmethod\n",
    "    def display_content(self):\n",
    "        pass\n",
    "\n",
    "class VideoLesson(CourseMaterial):\n",
    "    def display_content(self):\n",
    "        return \"Playing video lesson...\"\n",
    "\n",
    "class PDFDocument(CourseMaterial):\n",
    "    def display_content(self):\n",
    "        return \"Opening PDF material...\"\n",
    "\n",
    "\n",
    "s = Student(\"alice\", \"alice@example.com\")\n",
    "i = Instructor(\"bob\", \"bob@example.com\")\n",
    "\n",
    "print(s.access_portal())\n",
    "print(i.access_portal())\n",
    "\n",
    "materials = [VideoLesson(), PDFDocument()]\n",
    "for m in materials:\n",
    "    print(m.display_content())"
   ]
  }
 ],
 "metadata": {
  "kernelspec": {
   "display_name": "Python 3",
   "language": "python",
   "name": "python3"
  },
  "language_info": {
   "codemirror_mode": {
    "name": "ipython",
    "version": 3
   },
   "file_extension": ".py",
   "mimetype": "text/x-python",
   "name": "python",
   "nbconvert_exporter": "python",
   "pygments_lexer": "ipython3",
   "version": "3.13.5"
  }
 },
 "nbformat": 4,
 "nbformat_minor": 5
}
